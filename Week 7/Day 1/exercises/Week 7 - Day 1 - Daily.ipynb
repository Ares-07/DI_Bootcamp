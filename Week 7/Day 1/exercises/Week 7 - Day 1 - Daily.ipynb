{
 "cells": [
  {
   "cell_type": "code",
   "execution_count": 1,
   "id": "cbcf0134",
   "metadata": {},
   "outputs": [],
   "source": [
    "import random\n",
    "import pandas as pd\n",
    "import numpy as np"
   ]
  },
  {
   "cell_type": "code",
   "execution_count": 2,
   "id": "eb246b75",
   "metadata": {},
   "outputs": [
    {
     "name": "stdout",
     "output_type": "stream",
     "text": [
      "[[60 59 22 53 37 51]\n",
      " [ 3 20 56 96 29  3]\n",
      " [16 75 31 79 39 65]\n",
      " [23 39 52 38 88 52]\n",
      " [26 21 43 98 34 20]]\n"
     ]
    }
   ],
   "source": [
    "def table(M,N):\n",
    "    if M<50 and N<40:\n",
    "        return np.random.randint(1,101,(M,N))\n",
    "print(table(5,6))"
   ]
  },
  {
   "cell_type": "code",
   "execution_count": 3,
   "id": "3e319bab",
   "metadata": {},
   "outputs": [
    {
     "name": "stdout",
     "output_type": "stream",
     "text": [
      "[[23 35 47 70 17 93]\n",
      " [86 49 66 44 16 66]\n",
      " [29 82 21  3 16 68]\n",
      " [58 70 27 14 87 70]\n",
      " [21 31 60  7 80 50]]\n"
     ]
    }
   ],
   "source": [
    "table_a = table(5,6)\n",
    "print(table_a)"
   ]
  },
  {
   "cell_type": "code",
   "execution_count": 4,
   "id": "a9113cb1",
   "metadata": {},
   "outputs": [
    {
     "name": "stdout",
     "output_type": "stream",
     "text": [
      "[29 82 21  3 16 68]\n"
     ]
    }
   ],
   "source": [
    "print(table_a[2])"
   ]
  },
  {
   "cell_type": "code",
   "execution_count": 5,
   "id": "ec70121a",
   "metadata": {},
   "outputs": [
    {
     "name": "stdout",
     "output_type": "stream",
     "text": [
      "[47 66 21 27 60]\n"
     ]
    }
   ],
   "source": [
    "print(table_a[:,2])"
   ]
  },
  {
   "cell_type": "code",
   "execution_count": 6,
   "id": "ff011708",
   "metadata": {},
   "outputs": [
    {
     "name": "stdout",
     "output_type": "stream",
     "text": [
      "[[23 35 47 70 17 93]\n",
      " [86 49 66 44 16 66]\n",
      " [29 82 21  3 16 68]\n",
      " [58 70 27 14 87 70]\n",
      " [ 7  7  7  7  7  7]]\n"
     ]
    }
   ],
   "source": [
    "table_a[-1] = 7\n",
    "print(table_a)"
   ]
  },
  {
   "cell_type": "code",
   "execution_count": 7,
   "id": "d58c57e0",
   "metadata": {},
   "outputs": [
    {
     "name": "stdout",
     "output_type": "stream",
     "text": [
      "[[ 23  35  47  70  17  58]\n",
      " [ 86  49  66  44  16 135]\n",
      " [ 29  82  21   3  16 111]\n",
      " [ 58  70  27  14  87 128]\n",
      " [  7   7   7   7   7  14]]\n"
     ]
    }
   ],
   "source": [
    "table_a[:,-1] = table_a[:,0] + table_a[:,1]\n",
    "print (table_a)\n"
   ]
  },
  {
   "cell_type": "code",
   "execution_count": null,
   "id": "266b8d98",
   "metadata": {},
   "outputs": [],
   "source": []
  }
 ],
 "metadata": {
  "kernelspec": {
   "display_name": "Python 3 (ipykernel)",
   "language": "python",
   "name": "python3"
  },
  "language_info": {
   "codemirror_mode": {
    "name": "ipython",
    "version": 3
   },
   "file_extension": ".py",
   "mimetype": "text/x-python",
   "name": "python",
   "nbconvert_exporter": "python",
   "pygments_lexer": "ipython3",
   "version": "3.10.0"
  }
 },
 "nbformat": 4,
 "nbformat_minor": 5
}
