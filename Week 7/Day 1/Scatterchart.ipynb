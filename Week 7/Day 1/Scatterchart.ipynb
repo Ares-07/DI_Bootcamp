{
 "cells": [
  {
   "cell_type": "code",
   "execution_count": 1,
   "id": "be3ac1aa",
   "metadata": {},
   "outputs": [],
   "source": [
    "import numpy as np\n",
    "import matplotlib.pyplot as plt"
   ]
  },
  {
   "cell_type": "code",
   "execution_count": 2,
   "id": "391768b5",
   "metadata": {},
   "outputs": [],
   "source": [
    "randnums = np.random.randint(0, 76, 100)\n"
   ]
  },
  {
   "cell_type": "code",
   "execution_count": 3,
   "id": "9473db4e",
   "metadata": {},
   "outputs": [],
   "source": [
    "fifty_by_two = randnums.reshape(50,2)"
   ]
  },
  {
   "cell_type": "code",
   "execution_count": 4,
   "id": "3f6e6197",
   "metadata": {},
   "outputs": [
    {
     "data": {
      "image/png": "[encoded data removed]",
      "text/plain": [
       "<Figure size 432x288 with 1 Axes>"
      ]
     },
     "metadata": {
      "needs_background": "light"
     },
     "output_type": "display_data"
    }
   ],
   "source": [
    "plt.scatter(fifty_by_two[:,0], fifty_by_two[:,1])\n",
    "plt.xlabel('num1')\n",
    "plt.ylabel('num2')\n",
    "plt.show(block=True)"
   ]
  },
  {
   "cell_type": "code",
   "execution_count": null,
   "id": "2046081f",
   "metadata": {},
   "outputs": [],
   "source": []
  }
 ],
 "metadata": {
  "kernelspec": {
   "display_name": "Python 3 (ipykernel)",
   "language": "python",
   "name": "python3"
  },
  "language_info": {
   "codemirror_mode": {
    "name": "ipython",
    "version": 3
   },
   "file_extension": ".py",
   "mimetype": "text/x-python",
   "name": "python",
   "nbconvert_exporter": "python",
   "pygments_lexer": "ipython3",
   "version": "3.10.0"
  }
 },
 "nbformat": 4,
 "nbformat_minor": 5
}
